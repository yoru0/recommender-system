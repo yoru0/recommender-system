{
 "cells": [
  {
   "cell_type": "markdown",
   "metadata": {
    "id": "VCDx5rrb3dfT"
   },
   "source": [
    "# Library"
   ]
  },
  {
   "cell_type": "code",
   "execution_count": 1,
   "metadata": {
    "executionInfo": {
     "elapsed": 2460,
     "status": "ok",
     "timestamp": 1742227591151,
     "user": {
      "displayName": "Jordan",
      "userId": "03873443385232639718"
     },
     "user_tz": -420
    },
    "id": "BqXZx4vliMpG"
   },
   "outputs": [],
   "source": [
    "import numpy as np\n",
    "import pandas as pd\n",
    "import matplotlib.pyplot as plt\n",
    "from sklearn.metrics.pairwise import cosine_similarity"
   ]
  },
  {
   "cell_type": "markdown",
   "metadata": {
    "id": "cxB8QKd_3hLL"
   },
   "source": [
    "# Load Data"
   ]
  },
  {
   "cell_type": "code",
   "execution_count": 22,
   "metadata": {
    "colab": {
     "base_uri": "https://localhost:8080/"
    },
    "executionInfo": {
     "elapsed": 497,
     "status": "ok",
     "timestamp": 1742227879635,
     "user": {
      "displayName": "Jordan",
      "userId": "03873443385232639718"
     },
     "user_tz": -420
    },
    "id": "cGYkpO1vjnxo",
    "outputId": "56728959-ee03-4da8-ca5a-e4c3a36c4b81"
   },
   "outputs": [
    {
     "name": "stdout",
     "output_type": "stream",
     "text": [
      "   movie_id              title release_date  video_release_date  \\\n",
      "0         1   Toy Story (1995)  01-Jan-1995                 NaN   \n",
      "1         2   GoldenEye (1995)  01-Jan-1995                 NaN   \n",
      "2         3  Four Rooms (1995)  01-Jan-1995                 NaN   \n",
      "3         4  Get Shorty (1995)  01-Jan-1995                 NaN   \n",
      "4         5     Copycat (1995)  01-Jan-1995                 NaN   \n",
      "\n",
      "                                            IMDb_URL  unknown  Action  \\\n",
      "0  http://us.imdb.com/M/title-exact?Toy%20Story%2...        0       0   \n",
      "1  http://us.imdb.com/M/title-exact?GoldenEye%20(...        0       1   \n",
      "2  http://us.imdb.com/M/title-exact?Four%20Rooms%...        0       0   \n",
      "3  http://us.imdb.com/M/title-exact?Get%20Shorty%...        0       1   \n",
      "4  http://us.imdb.com/M/title-exact?Copycat%20(1995)        0       0   \n",
      "\n",
      "   Adventure  Animation  Children's  ...  Fantasy  Film-Noir  Horror  Musical  \\\n",
      "0          0          1           1  ...        0          0       0        0   \n",
      "1          1          0           0  ...        0          0       0        0   \n",
      "2          0          0           0  ...        0          0       0        0   \n",
      "3          0          0           0  ...        0          0       0        0   \n",
      "4          0          0           0  ...        0          0       0        0   \n",
      "\n",
      "   Mystery  Romance  Sci-Fi  Thriller  War  Western  \n",
      "0        0        0       0         0    0        0  \n",
      "1        0        0       0         1    0        0  \n",
      "2        0        0       0         1    0        0  \n",
      "3        0        0       0         0    0        0  \n",
      "4        0        0       0         1    0        0  \n",
      "\n",
      "[5 rows x 24 columns]\n"
     ]
    }
   ],
   "source": [
    "movies_url = 'https://files.grouplens.org/datasets/movielens/ml-100k/u.item'\n",
    "\n",
    "movie_columns = [\n",
    "    'movie_id', 'title', 'release_date', 'video_release_date', 'IMDb_URL', 'unknown', 'Action', 'Adventure', 'Animation', \"Children's\", 'Comedy',\n",
    "    'Crime', 'Documentary', 'Drama', 'Fantasy', 'Film-Noir', 'Horror', 'Musical', 'Mystery', 'Romance', 'Sci-Fi', 'Thriller', 'War', 'Western'\n",
    "]\n",
    "movies_df = pd.read_csv(movies_url, sep='|', encoding='latin-1', names=movie_columns, header=None)\n",
    "\n",
    "print(movies_df.head())"
   ]
  },
  {
   "cell_type": "code",
   "execution_count": 23,
   "metadata": {
    "colab": {
     "base_uri": "https://localhost:8080/"
    },
    "executionInfo": {
     "elapsed": 464,
     "status": "ok",
     "timestamp": 1742227908143,
     "user": {
      "displayName": "Jordan",
      "userId": "03873443385232639718"
     },
     "user_tz": -420
    },
    "id": "tNcZa-yFj2KZ",
    "outputId": "18f99214-ad36-43f1-9ef7-d1898bf4cb2e"
   },
   "outputs": [
    {
     "name": "stdout",
     "output_type": "stream",
     "text": [
      "   user_id  movie_id  rating\n",
      "0      196       242       3\n",
      "1      186       302       3\n",
      "2       22       377       1\n",
      "3      244        51       2\n",
      "4      166       346       1\n"
     ]
    }
   ],
   "source": [
    "ratings_url = 'https://files.grouplens.org/datasets/movielens/ml-100k/u.data'\n",
    "\n",
    "ratings_df = pd.read_csv(ratings_url, sep='\\t', names=['user_id', 'movie_id', 'rating', 'timestamp'])\n",
    "ratings_df = ratings_df.drop(columns=['timestamp'])\n",
    "\n",
    "print(ratings_df.head())"
   ]
  },
  {
   "cell_type": "code",
   "execution_count": 24,
   "metadata": {
    "colab": {
     "base_uri": "https://localhost:8080/"
    },
    "executionInfo": {
     "elapsed": 20,
     "status": "ok",
     "timestamp": 1742227926498,
     "user": {
      "displayName": "Jordan",
      "userId": "03873443385232639718"
     },
     "user_tz": -420
    },
    "id": "8oPQfa1GkFqC",
    "outputId": "0a059253-1483-47ed-bd78-1bb8e796369d"
   },
   "outputs": [
    {
     "name": "stdout",
     "output_type": "stream",
     "text": [
      "Merged Data:\n",
      "   user_id  movie_id  rating                       title\n",
      "0      196       242       3                Kolya (1996)\n",
      "1      186       302       3    L.A. Confidential (1997)\n",
      "2       22       377       1         Heavyweights (1994)\n",
      "3      244        51       2  Legends of the Fall (1994)\n",
      "4      166       346       1         Jackie Brown (1997)\n"
     ]
    }
   ],
   "source": [
    "data = pd.merge(ratings_df, movies_df[['movie_id', 'title']], on='movie_id')\n",
    "\n",
    "print(\"Merged Data:\")\n",
    "print(data.head())"
   ]
  },
  {
   "cell_type": "markdown",
   "metadata": {
    "id": "EMrRtISQ3mNd"
   },
   "source": [
    "# EDA"
   ]
  },
  {
   "cell_type": "code",
   "execution_count": 25,
   "metadata": {
    "colab": {
     "base_uri": "https://localhost:8080/"
    },
    "executionInfo": {
     "elapsed": 51,
     "status": "ok",
     "timestamp": 1742227977636,
     "user": {
      "displayName": "Jordan",
      "userId": "03873443385232639718"
     },
     "user_tz": -420
    },
    "id": "XBc63F1b29K7",
    "outputId": "421347a0-12dc-41cc-8912-73076a663dab"
   },
   "outputs": [
    {
     "name": "stdout",
     "output_type": "stream",
     "text": [
      "Number of users: 943, Number of movies: 1682\n"
     ]
    }
   ],
   "source": [
    "num_users = data['user_id'].nunique()\n",
    "num_movies = data['movie_id'].nunique()\n",
    "\n",
    "print(f\"Number of users: {num_users}, Number of movies: {num_movies}\")"
   ]
  },
  {
   "cell_type": "code",
   "execution_count": 26,
   "metadata": {
    "colab": {
     "base_uri": "https://localhost:8080/"
    },
    "executionInfo": {
     "elapsed": 50,
     "status": "ok",
     "timestamp": 1742227987754,
     "user": {
      "displayName": "Jordan",
      "userId": "03873443385232639718"
     },
     "user_tz": -420
    },
    "id": "OJqOtVJb2-ks",
    "outputId": "ca7f87e4-8011-46d3-f6b2-5bbda036d053"
   },
   "outputs": [
    {
     "name": "stdout",
     "output_type": "stream",
     "text": [
      "Rating distribution:\n",
      "rating\n",
      "1     6110\n",
      "2    11370\n",
      "3    27145\n",
      "4    34174\n",
      "5    21201\n",
      "Name: count, dtype: int64\n"
     ]
    }
   ],
   "source": [
    "print(\"Rating distribution:\")\n",
    "print(data['rating'].value_counts().sort_index())"
   ]
  },
  {
   "cell_type": "code",
   "execution_count": 11,
   "metadata": {
    "colab": {
     "base_uri": "https://localhost:8080/",
     "height": 487
    },
    "executionInfo": {
     "elapsed": 357,
     "status": "ok",
     "timestamp": 1742227668068,
     "user": {
      "displayName": "Jordan",
      "userId": "03873443385232639718"
     },
     "user_tz": -420
    },
    "id": "CQES-EyB3Bvf",
    "outputId": "b95ba228-bc19-4100-b264-7e8e7f4f4ae0"
   },
   "outputs": [
    {
     "data": {
      "image/png": "[encoded data removed]",
      "text/plain": [
       "<Figure size 800x500 with 1 Axes>"
      ]
     },
     "metadata": {},
     "output_type": "display_data"
    }
   ],
   "source": [
    "plt.figure(figsize=(8, 5))\n",
    "plt.hist(data['rating'], bins=np.arange(0.5, 6, 1), edgecolor='black')\n",
    "plt.xlabel('Rating')\n",
    "plt.ylabel('Frequency')\n",
    "plt.title('Distribution of Movie Ratings')\n",
    "plt.show()"
   ]
  },
  {
   "cell_type": "markdown",
   "metadata": {
    "id": "Klmop4d_3qhv"
   },
   "source": [
    "# Preprocessing"
   ]
  },
  {
   "cell_type": "code",
   "execution_count": 13,
   "metadata": {
    "colab": {
     "base_uri": "https://localhost:8080/"
    },
    "executionInfo": {
     "elapsed": 80,
     "status": "ok",
     "timestamp": 1742227680669,
     "user": {
      "displayName": "Jordan",
      "userId": "03873443385232639718"
     },
     "user_tz": -420
    },
    "id": "d5jj2Qa93Hnt",
    "outputId": "b1a66073-ef13-407d-eb77-d761043c231d"
   },
   "outputs": [
    {
     "name": "stdout",
     "output_type": "stream",
     "text": [
      "Utility Matrix shape (users x movies): (943, 1682)\n"
     ]
    }
   ],
   "source": [
    "ratings_matrix = data.pivot(index='user_id', columns='movie_id', values='rating')\n",
    "print(\"Utility Matrix shape (users x movies):\", ratings_matrix.shape)"
   ]
  },
  {
   "cell_type": "code",
   "execution_count": 14,
   "metadata": {
    "executionInfo": {
     "elapsed": 53,
     "status": "ok",
     "timestamp": 1742227686353,
     "user": {
      "displayName": "Jordan",
      "userId": "03873443385232639718"
     },
     "user_tz": -420
    },
    "id": "5KR9zm6r3JQx"
   },
   "outputs": [],
   "source": [
    "ratings_matrix_filled = ratings_matrix.fillna(0)"
   ]
  },
  {
   "cell_type": "code",
   "execution_count": 28,
   "metadata": {
    "colab": {
     "base_uri": "https://localhost:8080/"
    },
    "executionInfo": {
     "elapsed": 132,
     "status": "ok",
     "timestamp": 1742228062996,
     "user": {
      "displayName": "Jordan",
      "userId": "03873443385232639718"
     },
     "user_tz": -420
    },
    "id": "Gm8Lx9cc3MJz",
    "outputId": "5e40fb3d-1ff5-459f-ae7b-82d1ca5a1734"
   },
   "outputs": [
    {
     "name": "stdout",
     "output_type": "stream",
     "text": [
      "User Similarity Matrix:\n",
      "user_id       1         2         3         4         5         6         7    \\\n",
      "user_id                                                                         \n",
      "1        1.000000  0.166931  0.047460  0.064358  0.378475  0.430239  0.440367   \n",
      "2        0.166931  1.000000  0.110591  0.178121  0.072979  0.245843  0.107328   \n",
      "3        0.047460  0.110591  1.000000  0.344151  0.021245  0.072415  0.066137   \n",
      "4        0.064358  0.178121  0.344151  1.000000  0.031804  0.068044  0.091230   \n",
      "5        0.378475  0.072979  0.021245  0.031804  1.000000  0.237286  0.373600   \n",
      "\n",
      "user_id       8         9         10   ...       934       935       936  \\\n",
      "user_id                                ...                                 \n",
      "1        0.319072  0.078138  0.376544  ...  0.369527  0.119482  0.274876   \n",
      "2        0.103344  0.161048  0.159862  ...  0.156986  0.307942  0.358789   \n",
      "3        0.083060  0.061040  0.065151  ...  0.031875  0.042753  0.163829   \n",
      "4        0.188060  0.101284  0.060859  ...  0.052107  0.036784  0.133115   \n",
      "5        0.248930  0.056847  0.201427  ...  0.338794  0.080580  0.094924   \n",
      "\n",
      "user_id       937       938       939       940       941       942       943  \n",
      "user_id                                                                        \n",
      "1        0.189705  0.197326  0.118095  0.314072  0.148617  0.179508  0.398175  \n",
      "2        0.424046  0.319889  0.228583  0.226790  0.161485  0.172268  0.105798  \n",
      "3        0.069038  0.124245  0.026271  0.161890  0.101243  0.133416  0.026556  \n",
      "4        0.193471  0.146058  0.030138  0.196858  0.152041  0.170086  0.058752  \n",
      "5        0.079779  0.148607  0.071459  0.239955  0.139595  0.152497  0.313941  \n",
      "\n",
      "[5 rows x 943 columns]\n"
     ]
    }
   ],
   "source": [
    "user_similarity = cosine_similarity(ratings_matrix_filled)\n",
    "user_similarity_df = pd.DataFrame(user_similarity, index=ratings_matrix.index, columns=ratings_matrix.index)\n",
    "\n",
    "print(\"User Similarity Matrix:\")\n",
    "print(user_similarity_df.head())"
   ]
  },
  {
   "cell_type": "markdown",
   "metadata": {
    "id": "bxHcTPak3tnU"
   },
   "source": [
    "# Collaborative Filtering Recommendation System"
   ]
  },
  {
   "cell_type": "code",
   "execution_count": null,
   "metadata": {
    "executionInfo": {
     "elapsed": 6,
     "status": "ok",
     "timestamp": 1742228154870,
     "user": {
      "displayName": "Jordan",
      "userId": "03873443385232639718"
     },
     "user_tz": -420
    },
    "id": "BH19rNL63Nzu"
   },
   "outputs": [],
   "source": [
    "def predict_rating(user_id, movie_id, ratings_matrix, user_similarity_df):\n",
    "    if movie_id in ratings_matrix.columns:\n",
    "        sim_scores = user_similarity_df.loc[user_id]\n",
    "        movie_ratings = ratings_matrix[movie_id]\n",
    "        valid = movie_ratings.notna()\n",
    "        sim_scores = sim_scores[valid]\n",
    "        movie_ratings = movie_ratings[valid]\n",
    "        if sim_scores.sum() == 0:\n",
    "            return np.nan\n",
    "        predicted = np.dot(sim_scores, movie_ratings) / sim_scores.sum()\n",
    "        return predicted\n",
    "\n",
    "    else:\n",
    "        return np.nan"
   ]
  },
  {
   "cell_type": "code",
   "execution_count": null,
   "metadata": {
    "executionInfo": {
     "elapsed": 9,
     "status": "ok",
     "timestamp": 1742228196077,
     "user": {
      "displayName": "Jordan",
      "userId": "03873443385232639718"
     },
     "user_tz": -420
    },
    "id": "NdvENUbU3RgX"
   },
   "outputs": [],
   "source": [
    "def recommend_movies(user_id, ratings_matrix, user_similarity_df, movies_df, n_recommendations=5):\n",
    "    user_ratings = ratings_matrix.loc[user_id]\n",
    "    unrated_movies = user_ratings[user_ratings.isna()].index\n",
    "\n",
    "    predictions = {}\n",
    "    for movie in unrated_movies:\n",
    "        pred_rating = predict_rating(user_id, movie, ratings_matrix, user_similarity_df)\n",
    "        predictions[movie] = pred_rating\n",
    "\n",
    "    sorted_predictions = sorted(predictions.items(), key=lambda x: x[1] if x[1] is not None else 0, reverse=True)\n",
    "\n",
    "    recommended = []\n",
    "    for movie_id, pred in sorted_predictions[:n_recommendations]:\n",
    "        title = movies_df[movies_df['movie_id'] == movie_id]['title'].values[0]\n",
    "        recommended.append((movie_id, title, pred))\n",
    "\n",
    "    return recommended"
   ]
  },
  {
   "cell_type": "code",
   "execution_count": 31,
   "metadata": {
    "colab": {
     "base_uri": "https://localhost:8080/"
    },
    "executionInfo": {
     "elapsed": 751,
     "status": "ok",
     "timestamp": 1742228222755,
     "user": {
      "displayName": "Jordan",
      "userId": "03873443385232639718"
     },
     "user_tz": -420
    },
    "id": "CQ8A_aGM3S8J",
    "outputId": "c1be5435-0f59-473f-f21c-b71ee3a0b40b"
   },
   "outputs": [
    {
     "name": "stdout",
     "output_type": "stream",
     "text": [
      "Top recommendations for user 1:\n",
      "Movie ID: 1189, Title: Prefontaine (1997), Predicted Rating: 5.00\n",
      "Movie ID: 814, Title: Great Day in Harlem, A (1994), Predicted Rating: 5.00\n",
      "Movie ID: 1122, Title: They Made Me a Criminal (1939), Predicted Rating: 5.00\n",
      "Movie ID: 1201, Title: Marlene Dietrich: Shadow and Light (1996) , Predicted Rating: 5.00\n",
      "Movie ID: 1467, Title: Saint of Fort Washington, The (1993), Predicted Rating: 5.00\n"
     ]
    }
   ],
   "source": [
    "user_id_to_recommend = 1\n",
    "recommended_movies = recommend_movies(user_id_to_recommend, ratings_matrix, user_similarity_df, movies_df, n_recommendations=5)\n",
    "\n",
    "print(f\"Top recommendations for user {user_id_to_recommend}:\")\n",
    "for movie_id, title, pred in recommended_movies:\n",
    "    if pred is not None:\n",
    "        print(f\"Movie ID: {movie_id}, Title: {title}, Predicted Rating: {pred:.2f}\")\n",
    "    else:\n",
    "        print(f\"Movie ID: {movie_id}, Title: {title}, Predicted Rating: N/A\")"
   ]
  }
 ],
 "metadata": {
  "colab": {
   "authorship_tag": "ABX9TyPrFJOL44QR2BnbzLuMgxG8",
   "provenance": []
  },
  "kernelspec": {
   "display_name": "Python 3",
   "name": "python3"
  },
  "language_info": {
   "name": "python"
  }
 },
 "nbformat": 4,
 "nbformat_minor": 0
}
